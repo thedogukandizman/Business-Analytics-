{
 "cells": [
  {
   "cell_type": "code",
   "execution_count": 1,
   "id": "d8acc79e-b216-4bac-827e-0546817c7104",
   "metadata": {},
   "outputs": [],
   "source": [
    "import pandas as pd\n",
    "import numpy as np     # importing libraries"
   ]
  },
  {
   "cell_type": "code",
   "execution_count": 5,
   "id": "8b781d13-c6eb-4158-abd8-c44aeba4694e",
   "metadata": {},
   "outputs": [
    {
     "data": {
      "text/html": [
       "<div>\n",
       "<style scoped>\n",
       "    .dataframe tbody tr th:only-of-type {\n",
       "        vertical-align: middle;\n",
       "    }\n",
       "\n",
       "    .dataframe tbody tr th {\n",
       "        vertical-align: top;\n",
       "    }\n",
       "\n",
       "    .dataframe thead th {\n",
       "        text-align: right;\n",
       "    }\n",
       "</style>\n",
       "<table border=\"1\" class=\"dataframe\">\n",
       "  <thead>\n",
       "    <tr style=\"text-align: right;\">\n",
       "      <th></th>\n",
       "      <th>employee_id</th>\n",
       "      <th>gender</th>\n",
       "      <th>department</th>\n",
       "      <th>years_at_company</th>\n",
       "      <th>promotion_last_5_years</th>\n",
       "      <th>left_company</th>\n",
       "    </tr>\n",
       "  </thead>\n",
       "  <tbody>\n",
       "    <tr>\n",
       "      <th>0</th>\n",
       "      <td>1</td>\n",
       "      <td>Male</td>\n",
       "      <td>Marketing</td>\n",
       "      <td>15</td>\n",
       "      <td>No</td>\n",
       "      <td>No</td>\n",
       "    </tr>\n",
       "    <tr>\n",
       "      <th>1</th>\n",
       "      <td>2</td>\n",
       "      <td>Female</td>\n",
       "      <td>Marketing</td>\n",
       "      <td>5</td>\n",
       "      <td>No</td>\n",
       "      <td>No</td>\n",
       "    </tr>\n",
       "    <tr>\n",
       "      <th>2</th>\n",
       "      <td>3</td>\n",
       "      <td>Male</td>\n",
       "      <td>Sales</td>\n",
       "      <td>10</td>\n",
       "      <td>No</td>\n",
       "      <td>Yes</td>\n",
       "    </tr>\n",
       "    <tr>\n",
       "      <th>3</th>\n",
       "      <td>4</td>\n",
       "      <td>Male</td>\n",
       "      <td>HR</td>\n",
       "      <td>7</td>\n",
       "      <td>No</td>\n",
       "      <td>No</td>\n",
       "    </tr>\n",
       "    <tr>\n",
       "      <th>4</th>\n",
       "      <td>5</td>\n",
       "      <td>Male</td>\n",
       "      <td>IT</td>\n",
       "      <td>17</td>\n",
       "      <td>No</td>\n",
       "      <td>No</td>\n",
       "    </tr>\n",
       "  </tbody>\n",
       "</table>\n",
       "</div>"
      ],
      "text/plain": [
       "   employee_id  gender department  years_at_company promotion_last_5_years  \\\n",
       "0            1    Male  Marketing                15                     No   \n",
       "1            2  Female  Marketing                 5                     No   \n",
       "2            3    Male      Sales                10                     No   \n",
       "3            4    Male         HR                 7                     No   \n",
       "4            5    Male         IT                17                     No   \n",
       "\n",
       "  left_company  \n",
       "0           No  \n",
       "1           No  \n",
       "2          Yes  \n",
       "3           No  \n",
       "4           No  "
      ]
     },
     "execution_count": 5,
     "metadata": {},
     "output_type": "execute_result"
    }
   ],
   "source": [
    "hr_data = pd.read_csv(\"HR_Analytics_Dataset.csv\") # loading the Dataset\n",
    "\n",
    "hr_data.head() # displaying the top 5 rows of the dataset"
   ]
  },
  {
   "cell_type": "code",
   "execution_count": 7,
   "id": "f8c85c69-c4a7-4e9b-829a-1c5e30600b5b",
   "metadata": {},
   "outputs": [
    {
     "name": "stdout",
     "output_type": "stream",
     "text": [
      "<class 'pandas.core.frame.DataFrame'>\n",
      "RangeIndex: 500 entries, 0 to 499\n",
      "Data columns (total 6 columns):\n",
      " #   Column                  Non-Null Count  Dtype \n",
      "---  ------                  --------------  ----- \n",
      " 0   employee_id             500 non-null    int64 \n",
      " 1   gender                  500 non-null    object\n",
      " 2   department              500 non-null    object\n",
      " 3   years_at_company        500 non-null    int64 \n",
      " 4   promotion_last_5_years  500 non-null    object\n",
      " 5   left_company            500 non-null    object\n",
      "dtypes: int64(2), object(4)\n",
      "memory usage: 23.6+ KB\n"
     ]
    },
    {
     "data": {
      "text/plain": [
       "employee_id               0\n",
       "gender                    0\n",
       "department                0\n",
       "years_at_company          0\n",
       "promotion_last_5_years    0\n",
       "left_company              0\n",
       "dtype: int64"
      ]
     },
     "execution_count": 7,
     "metadata": {},
     "output_type": "execute_result"
    }
   ],
   "source": [
    "hr_data.info()\n",
    "\n",
    "hr_data.isnull().sum()"
   ]
  },
  {
   "cell_type": "code",
   "execution_count": 8,
   "id": "82f7a9ee-4aa9-4478-b4a5-452a782fd2a9",
   "metadata": {},
   "outputs": [
    {
     "data": {
      "text/html": [
       "<div>\n",
       "<style scoped>\n",
       "    .dataframe tbody tr th:only-of-type {\n",
       "        vertical-align: middle;\n",
       "    }\n",
       "\n",
       "    .dataframe tbody tr th {\n",
       "        vertical-align: top;\n",
       "    }\n",
       "\n",
       "    .dataframe thead th {\n",
       "        text-align: right;\n",
       "    }\n",
       "</style>\n",
       "<table border=\"1\" class=\"dataframe\">\n",
       "  <thead>\n",
       "    <tr style=\"text-align: right;\">\n",
       "      <th></th>\n",
       "      <th>employee_id</th>\n",
       "      <th>gender</th>\n",
       "      <th>department</th>\n",
       "      <th>years_at_company</th>\n",
       "      <th>promotion_last_5_years</th>\n",
       "      <th>left_company</th>\n",
       "    </tr>\n",
       "  </thead>\n",
       "  <tbody>\n",
       "    <tr>\n",
       "      <th>2</th>\n",
       "      <td>3</td>\n",
       "      <td>Male</td>\n",
       "      <td>Sales</td>\n",
       "      <td>10</td>\n",
       "      <td>No</td>\n",
       "      <td>Yes</td>\n",
       "    </tr>\n",
       "    <tr>\n",
       "      <th>5</th>\n",
       "      <td>6</td>\n",
       "      <td>Female</td>\n",
       "      <td>Sales</td>\n",
       "      <td>7</td>\n",
       "      <td>No</td>\n",
       "      <td>Yes</td>\n",
       "    </tr>\n",
       "    <tr>\n",
       "      <th>8</th>\n",
       "      <td>9</td>\n",
       "      <td>Male</td>\n",
       "      <td>HR</td>\n",
       "      <td>13</td>\n",
       "      <td>No</td>\n",
       "      <td>Yes</td>\n",
       "    </tr>\n",
       "    <tr>\n",
       "      <th>11</th>\n",
       "      <td>12</td>\n",
       "      <td>Male</td>\n",
       "      <td>HR</td>\n",
       "      <td>10</td>\n",
       "      <td>No</td>\n",
       "      <td>Yes</td>\n",
       "    </tr>\n",
       "    <tr>\n",
       "      <th>15</th>\n",
       "      <td>16</td>\n",
       "      <td>Male</td>\n",
       "      <td>Sales</td>\n",
       "      <td>18</td>\n",
       "      <td>Yes</td>\n",
       "      <td>Yes</td>\n",
       "    </tr>\n",
       "  </tbody>\n",
       "</table>\n",
       "</div>"
      ],
      "text/plain": [
       "    employee_id  gender department  years_at_company promotion_last_5_years  \\\n",
       "2             3    Male      Sales                10                     No   \n",
       "5             6  Female      Sales                 7                     No   \n",
       "8             9    Male         HR                13                     No   \n",
       "11           12    Male         HR                10                     No   \n",
       "15           16    Male      Sales                18                    Yes   \n",
       "\n",
       "   left_company  \n",
       "2           Yes  \n",
       "5           Yes  \n",
       "8           Yes  \n",
       "11          Yes  \n",
       "15          Yes  "
      ]
     },
     "execution_count": 8,
     "metadata": {},
     "output_type": "execute_result"
    }
   ],
   "source": [
    "left_employees = hr_data[hr_data[\"left_company\"] == \"Yes\"]\n",
    "\n",
    "left_employees.head()"
   ]
  },
  {
   "cell_type": "code",
   "execution_count": 13,
   "id": "7cc658f9-508b-4633-baaf-bd87e9b9667a",
   "metadata": {},
   "outputs": [
    {
     "data": {
      "text/plain": [
       "9.788990825688073"
      ]
     },
     "execution_count": 13,
     "metadata": {},
     "output_type": "execute_result"
    }
   ],
   "source": [
    "avg_years_before_leaving = left_employees[\"years_at_company\"].mean()\n",
    "\n",
    "avg_years_before_leaving"
   ]
  },
  {
   "cell_type": "code",
   "execution_count": 20,
   "id": "267aa1c3-df58-4257-aad7-998712a40ae6",
   "metadata": {},
   "outputs": [
    {
     "name": "stdout",
     "output_type": "stream",
     "text": [
      "total_number_employees 500\n"
     ]
    },
    {
     "data": {
      "text/plain": [
       "(76, 15.2)"
      ]
     },
     "execution_count": 20,
     "metadata": {},
     "output_type": "execute_result"
    }
   ],
   "source": [
    "total_employees = len(hr_data)\n",
    "print(\"total_number_employees\", total_employees)\n",
    "promoted_employees = len(hr_data[hr_data[\"promotion_last_5_years\"] == \"Yes\"])\n",
    "promoted_employees\n",
    "\n",
    "\n",
    "\n",
    "promotion_percentage = (promoted_employees / total_employees) * 100\n",
    "promoted_employees, promotion_percentage\n"
   ]
  },
  {
   "cell_type": "code",
   "execution_count": 25,
   "id": "4b27d856-3564-42bf-9e95-f7b3df87873f",
   "metadata": {},
   "outputs": [
    {
     "data": {
      "text/plain": [
       "(21.100917431192663, 13.554987212276215)"
      ]
     },
     "execution_count": 25,
     "metadata": {},
     "output_type": "execute_result"
    }
   ],
   "source": [
    "left_employees = hr_data[hr_data[\"left_company\"] == \"Yes\"]\n",
    "left_promoted = len(left_employees[left_employees[\"promotion_last_5_years\"] == \"Yes\"])\n",
    "left_promotion_rate = (left_promoted / len(left_employees)) * 100\n",
    "stayed_employees = hr_data[hr_data[\"left_company\"] == \"No\"]\n",
    "stayed_promoted = len(stayed_employees[stayed_employees[\"promotion_last_5_years\"] == \"Yes\"])\n",
    "stayed_promotion_rate = (stayed_promoted / len(stayed_employees)) * 100\n",
    "left_promotion_rate, stayed_promotion_rate\n",
    "\n"
   ]
  },
  {
   "cell_type": "code",
   "execution_count": 29,
   "id": "bc161f2d-1f51-44f6-9199-7a0b91b79a26",
   "metadata": {},
   "outputs": [
    {
     "data": {
      "text/plain": [
       "department\n",
       "HR           26.744186\n",
       "Marketing    22.807018\n",
       "Name: employee_id, dtype: float64"
      ]
     },
     "execution_count": 29,
     "metadata": {},
     "output_type": "execute_result"
    }
   ],
   "source": [
    "dept_total = hr_data.groupby(\"department\")[\"employee_id\"].count()\n",
    "dept_left = hr_data[hr_data[\"left_company\"] == \"Yes\"].groupby(\"department\")[\"employee_id\"].count()\n",
    "attrition_rate = (dept_left / dept_total) * 100\n",
    "\n",
    "top_2_departments = attrition_rate.sort_values(ascending=False).head(2)\n",
    "top_2_departments"
   ]
  },
  {
   "cell_type": "code",
   "execution_count": 2,
   "id": "8b9ef8c0-61ad-4b00-8260-4bc76fc7c94b",
   "metadata": {},
   "outputs": [],
   "source": []
  },
  {
   "cell_type": "code",
   "execution_count": null,
   "id": "59fcf627-bcd1-4e0a-81cf-c30a8f207476",
   "metadata": {},
   "outputs": [],
   "source": [
    "## policies I suggest can be : giving employees more promotion opportunities.\n",
    "## better salary  and bonuses"
   ]
  },
  {
   "cell_type": "code",
   "execution_count": null,
   "id": "b29a71ca-3613-4bb3-ace9-4f37c9198e2f",
   "metadata": {},
   "outputs": [],
   "source": []
  },
  {
   "cell_type": "code",
   "execution_count": 9,
   "id": "73c4a00d-75b1-4155-8831-a24dee53f4a2",
   "metadata": {},
   "outputs": [],
   "source": [
    "import pandas as pd\n",
    "import numpy as np      ##importing pandas and numpy libraries"
   ]
  },
  {
   "cell_type": "code",
   "execution_count": 10,
   "id": "b9e60105-ab25-4b31-a21f-836d9bad1d54",
   "metadata": {},
   "outputs": [
    {
     "data": {
      "text/html": [
       "<div>\n",
       "<style scoped>\n",
       "    .dataframe tbody tr th:only-of-type {\n",
       "        vertical-align: middle;\n",
       "    }\n",
       "\n",
       "    .dataframe tbody tr th {\n",
       "        vertical-align: top;\n",
       "    }\n",
       "\n",
       "    .dataframe thead th {\n",
       "        text-align: right;\n",
       "    }\n",
       "</style>\n",
       "<table border=\"1\" class=\"dataframe\">\n",
       "  <thead>\n",
       "    <tr style=\"text-align: right;\">\n",
       "      <th></th>\n",
       "      <th>order_id</th>\n",
       "      <th>warehouse_location</th>\n",
       "      <th>product_category</th>\n",
       "      <th>order_month</th>\n",
       "      <th>on_time_delivery</th>\n",
       "    </tr>\n",
       "  </thead>\n",
       "  <tbody>\n",
       "    <tr>\n",
       "      <th>0</th>\n",
       "      <td>1</td>\n",
       "      <td>West</td>\n",
       "      <td>Books</td>\n",
       "      <td>2023-02</td>\n",
       "      <td>Yes</td>\n",
       "    </tr>\n",
       "    <tr>\n",
       "      <th>1</th>\n",
       "      <td>2</td>\n",
       "      <td>North</td>\n",
       "      <td>Electronics</td>\n",
       "      <td>2023-01</td>\n",
       "      <td>Yes</td>\n",
       "    </tr>\n",
       "    <tr>\n",
       "      <th>2</th>\n",
       "      <td>3</td>\n",
       "      <td>North</td>\n",
       "      <td>Toys</td>\n",
       "      <td>2023-09</td>\n",
       "      <td>Yes</td>\n",
       "    </tr>\n",
       "    <tr>\n",
       "      <th>3</th>\n",
       "      <td>4</td>\n",
       "      <td>North</td>\n",
       "      <td>Electronics</td>\n",
       "      <td>2023-02</td>\n",
       "      <td>Yes</td>\n",
       "    </tr>\n",
       "    <tr>\n",
       "      <th>4</th>\n",
       "      <td>5</td>\n",
       "      <td>North</td>\n",
       "      <td>Toys</td>\n",
       "      <td>2023-08</td>\n",
       "      <td>Yes</td>\n",
       "    </tr>\n",
       "  </tbody>\n",
       "</table>\n",
       "</div>"
      ],
      "text/plain": [
       "   order_id warehouse_location product_category order_month on_time_delivery\n",
       "0         1               West            Books     2023-02              Yes\n",
       "1         2              North      Electronics     2023-01              Yes\n",
       "2         3              North             Toys     2023-09              Yes\n",
       "3         4              North      Electronics     2023-02              Yes\n",
       "4         5              North             Toys     2023-08              Yes"
      ]
     },
     "execution_count": 10,
     "metadata": {},
     "output_type": "execute_result"
    }
   ],
   "source": [
    "operations_df = pd.read_csv(\"Operations_Analytics_Dataset.csv\") ## loading the operaetions datasheet\n",
    "\n",
    "operations_df.head()   ## displaying first 5 rows to make sure data is loaded correctly"
   ]
  },
  {
   "cell_type": "code",
   "execution_count": 11,
   "id": "7a2b06a5-0329-41f6-ab06-db6416ff7aa2",
   "metadata": {},
   "outputs": [
    {
     "name": "stdout",
     "output_type": "stream",
     "text": [
      "1000\n"
     ]
    },
    {
     "data": {
      "text/plain": [
       "14.2"
      ]
     },
     "execution_count": 11,
     "metadata": {},
     "output_type": "execute_result"
    }
   ],
   "source": [
    "total_orders = len(operations_df)  ## counting the total numbers of orders\n",
    "\n",
    "print(total_orders) ##number of total orders\n",
    "\n",
    "late_deliveries = len(operations_df[operations_df[\"on_time_delivery\"] == \"No\"]) ## creating a variable to calculate the late deliveries \n",
    "\n",
    "late_delivery_percentage = (late_deliveries / total_orders) * 100 ## percentage of late deliveries\n",
    " \n",
    "late_delivery_percentage ## printing the late deliveries"
   ]
  },
  {
   "cell_type": "code",
   "execution_count": 21,
   "id": "ccae79b8-50dd-4375-8681-bdf3e11fe203",
   "metadata": {},
   "outputs": [
    {
     "name": "stdout",
     "output_type": "stream",
     "text": [
      "     order_id warehouse_location product_category order_month on_time_delivery\n",
      "12         13              South         Clothing     2023-07               No\n",
      "15         16              North            Books     2023-01               No\n",
      "16         17               West             Home     2023-03               No\n",
      "32         33              South            Books     2023-06               No\n",
      "44         45               West      Electronics     2023-02               No\n",
      "..        ...                ...              ...         ...              ...\n",
      "975       976              South            Books     2023-05               No\n",
      "980       981              North         Clothing     2023-01               No\n",
      "986       987              South         Clothing     2023-02               No\n",
      "988       989               East             Home     2023-04               No\n",
      "993       994              North             Home     2023-03               No\n",
      "\n",
      "[142 rows x 5 columns]\n"
     ]
    },
    {
     "data": {
      "text/plain": [
       "('Clothing', 35)"
      ]
     },
     "execution_count": 21,
     "metadata": {},
     "output_type": "execute_result"
    }
   ],
   "source": [
    "late_deliveries_df = operations_df[operations_df[\"on_time_delivery\"] == \"No\"]\n",
    "print(late_deliveries_df)\n",
    "\n",
    "late_by_category = late_deliveries_df[\"product_category\"].value_counts()\n",
    "\n",
    "\n",
    "most_late = late_by_category.idxmax()\n",
    "most_late, late_by_category[most_late]"
   ]
  },
  {
   "cell_type": "code",
   "execution_count": 22,
   "id": "2202d6b0-9031-4803-b436-b8e08c8d0f4c",
   "metadata": {},
   "outputs": [
    {
     "data": {
      "text/plain": [
       "warehouse_location\n",
       "East     15845.070423\n",
       "West     12323.943662\n",
       "North    11971.830986\n",
       "South     9859.154930\n",
       "Name: count, dtype: float64"
      ]
     },
     "execution_count": 22,
     "metadata": {},
     "output_type": "execute_result"
    }
   ],
   "source": [
    "late_reduction_target = late_deliveries * 0.10\n",
    "\n",
    "late_by_warehouse = late_deliveries_df[\"warehouse_location\"].value_counts()\n",
    "\n",
    "savings_per_warehouse = (late_by_warehouse / late_deliveries) * 50000\n",
    "\n",
    "savings_per_warehouse"
   ]
  },
  {
   "cell_type": "code",
   "execution_count": null,
   "id": "e5796868-a85a-4ab3-87e3-8a3f2a608c6b",
   "metadata": {},
   "outputs": [],
   "source": [
    "## if warehouses run out of stocks, we need better forecasting. S\n",
    "##Since clothes have the most delays, special handling may help to fix the issue.\n",
    "# Since East Warehouse has the most late deliveries, targeted improvements may help."
   ]
  },
  {
   "cell_type": "markdown",
   "id": "73c2d89a-718a-44f0-b0cf-a2f3e96e7506",
   "metadata": {},
   "source": [
    "                                                                        QUESTION 3"
   ]
  },
  {
   "cell_type": "code",
   "execution_count": 2,
   "id": "b03652f5-ad2d-4b11-a0fe-b545661c60a0",
   "metadata": {},
   "outputs": [],
   "source": [
    "import pandas as pd\n",
    "import numpy as np "
   ]
  },
  {
   "cell_type": "code",
   "execution_count": 3,
   "id": "26fd7311-aa4d-46a5-817c-47be1d01eac9",
   "metadata": {},
   "outputs": [
    {
     "data": {
      "text/html": [
       "<div>\n",
       "<style scoped>\n",
       "    .dataframe tbody tr th:only-of-type {\n",
       "        vertical-align: middle;\n",
       "    }\n",
       "\n",
       "    .dataframe tbody tr th {\n",
       "        vertical-align: top;\n",
       "    }\n",
       "\n",
       "    .dataframe thead th {\n",
       "        text-align: right;\n",
       "    }\n",
       "</style>\n",
       "<table border=\"1\" class=\"dataframe\">\n",
       "  <thead>\n",
       "    <tr style=\"text-align: right;\">\n",
       "      <th></th>\n",
       "      <th>transaction_id</th>\n",
       "      <th>region</th>\n",
       "      <th>product_category</th>\n",
       "      <th>sales_amount</th>\n",
       "      <th>profit_margin</th>\n",
       "      <th>transaction_month</th>\n",
       "    </tr>\n",
       "  </thead>\n",
       "  <tbody>\n",
       "    <tr>\n",
       "      <th>0</th>\n",
       "      <td>1</td>\n",
       "      <td>East</td>\n",
       "      <td>Books</td>\n",
       "      <td>166.29</td>\n",
       "      <td>15.29</td>\n",
       "      <td>2023-08</td>\n",
       "    </tr>\n",
       "    <tr>\n",
       "      <th>1</th>\n",
       "      <td>2</td>\n",
       "      <td>West</td>\n",
       "      <td>Clothing</td>\n",
       "      <td>298.86</td>\n",
       "      <td>7.74</td>\n",
       "      <td>2023-08</td>\n",
       "    </tr>\n",
       "    <tr>\n",
       "      <th>2</th>\n",
       "      <td>3</td>\n",
       "      <td>South</td>\n",
       "      <td>Electronics</td>\n",
       "      <td>68.30</td>\n",
       "      <td>21.23</td>\n",
       "      <td>2023-10</td>\n",
       "    </tr>\n",
       "    <tr>\n",
       "      <th>3</th>\n",
       "      <td>4</td>\n",
       "      <td>North</td>\n",
       "      <td>Toys</td>\n",
       "      <td>475.24</td>\n",
       "      <td>12.99</td>\n",
       "      <td>2023-04</td>\n",
       "    </tr>\n",
       "    <tr>\n",
       "      <th>4</th>\n",
       "      <td>5</td>\n",
       "      <td>North</td>\n",
       "      <td>Clothing</td>\n",
       "      <td>489.68</td>\n",
       "      <td>5.22</td>\n",
       "      <td>2023-06</td>\n",
       "    </tr>\n",
       "  </tbody>\n",
       "</table>\n",
       "</div>"
      ],
      "text/plain": [
       "   transaction_id region product_category  sales_amount  profit_margin  \\\n",
       "0               1   East            Books        166.29          15.29   \n",
       "1               2   West         Clothing        298.86           7.74   \n",
       "2               3  South      Electronics         68.30          21.23   \n",
       "3               4  North             Toys        475.24          12.99   \n",
       "4               5  North         Clothing        489.68           5.22   \n",
       "\n",
       "  transaction_month  \n",
       "0           2023-08  \n",
       "1           2023-08  \n",
       "2           2023-10  \n",
       "3           2023-04  \n",
       "4           2023-06  "
      ]
     },
     "execution_count": 3,
     "metadata": {},
     "output_type": "execute_result"
    }
   ],
   "source": [
    "finance_df = pd.read_csv(\"Financial_Analytics_Dataset.csv\")\n",
    "\n",
    "finance_df.head()"
   ]
  },
  {
   "cell_type": "code",
   "execution_count": 4,
   "id": "f2bef776-e825-4be9-9c21-af87eac5d3c9",
   "metadata": {},
   "outputs": [
    {
     "data": {
      "text/plain": [
       "transaction_id       0\n",
       "region               0\n",
       "product_category     0\n",
       "sales_amount         1\n",
       "profit_margin        1\n",
       "transaction_month    0\n",
       "dtype: int64"
      ]
     },
     "execution_count": 4,
     "metadata": {},
     "output_type": "execute_result"
    }
   ],
   "source": [
    "finance_df.isnull().sum() ##checking the missing values"
   ]
  },
  {
   "cell_type": "code",
   "execution_count": 5,
   "id": "a8963012-5d2d-452f-8614-fa47b4517936",
   "metadata": {},
   "outputs": [
    {
     "data": {
      "text/plain": [
       "transaction_id       0\n",
       "region               0\n",
       "product_category     0\n",
       "sales_amount         1\n",
       "profit_margin        1\n",
       "transaction_month    0\n",
       "dtype: int64"
      ]
     },
     "execution_count": 5,
     "metadata": {},
     "output_type": "execute_result"
    }
   ],
   "source": [
    "finance_df[\"sales_amount\"].fillna(finance_df[\"sales_amount\"].mean())\n",
    "finance_df[\"profit_margin\"].fillna(finance_df[\"profit_margin\"].mean())\n",
    "\n",
    "finance_df.isnull().sum()"
   ]
  },
  {
   "cell_type": "code",
   "execution_count": 6,
   "id": "3238a592-6142-48c5-83b4-1e26524cd62c",
   "metadata": {},
   "outputs": [
    {
     "data": {
      "text/plain": [
       "19"
      ]
     },
     "execution_count": 6,
     "metadata": {},
     "output_type": "execute_result"
    }
   ],
   "source": [
    "filtered_transactions = finance_df[\n",
    "    (finance_df[\"profit_margin\"] > 20) & \n",
    "    (finance_df[\"sales_amount\"] > 300) & \n",
    "    (finance_df[\"transaction_month\"] == \"2023-07\") \n",
    "]\n",
    "\n",
    "matching_transactions = len(filtered_transactions)\n",
    "matching_transactions"
   ]
  },
  {
   "cell_type": "code",
   "execution_count": 7,
   "id": "f3d5cf77-75c1-4c69-8852-dc95e78444c8",
   "metadata": {},
   "outputs": [
    {
     "data": {
      "text/html": [
       "<div>\n",
       "<style scoped>\n",
       "    .dataframe tbody tr th:only-of-type {\n",
       "        vertical-align: middle;\n",
       "    }\n",
       "\n",
       "    .dataframe tbody tr th {\n",
       "        vertical-align: top;\n",
       "    }\n",
       "\n",
       "    .dataframe thead th {\n",
       "        text-align: right;\n",
       "    }\n",
       "</style>\n",
       "<table border=\"1\" class=\"dataframe\">\n",
       "  <thead>\n",
       "    <tr style=\"text-align: right;\">\n",
       "      <th></th>\n",
       "      <th>transaction_id</th>\n",
       "      <th>region</th>\n",
       "      <th>product_category</th>\n",
       "      <th>sales_amount</th>\n",
       "      <th>profit_margin</th>\n",
       "      <th>transaction_month</th>\n",
       "      <th>profit_amount</th>\n",
       "    </tr>\n",
       "  </thead>\n",
       "  <tbody>\n",
       "    <tr>\n",
       "      <th>0</th>\n",
       "      <td>1</td>\n",
       "      <td>East</td>\n",
       "      <td>Books</td>\n",
       "      <td>166.29</td>\n",
       "      <td>15.29</td>\n",
       "      <td>2023-08</td>\n",
       "      <td>25.425741</td>\n",
       "    </tr>\n",
       "    <tr>\n",
       "      <th>1</th>\n",
       "      <td>2</td>\n",
       "      <td>West</td>\n",
       "      <td>Clothing</td>\n",
       "      <td>298.86</td>\n",
       "      <td>7.74</td>\n",
       "      <td>2023-08</td>\n",
       "      <td>23.131764</td>\n",
       "    </tr>\n",
       "    <tr>\n",
       "      <th>2</th>\n",
       "      <td>3</td>\n",
       "      <td>South</td>\n",
       "      <td>Electronics</td>\n",
       "      <td>68.30</td>\n",
       "      <td>21.23</td>\n",
       "      <td>2023-10</td>\n",
       "      <td>14.500090</td>\n",
       "    </tr>\n",
       "    <tr>\n",
       "      <th>3</th>\n",
       "      <td>4</td>\n",
       "      <td>North</td>\n",
       "      <td>Toys</td>\n",
       "      <td>475.24</td>\n",
       "      <td>12.99</td>\n",
       "      <td>2023-04</td>\n",
       "      <td>61.733676</td>\n",
       "    </tr>\n",
       "    <tr>\n",
       "      <th>4</th>\n",
       "      <td>5</td>\n",
       "      <td>North</td>\n",
       "      <td>Clothing</td>\n",
       "      <td>489.68</td>\n",
       "      <td>5.22</td>\n",
       "      <td>2023-06</td>\n",
       "      <td>25.561296</td>\n",
       "    </tr>\n",
       "  </tbody>\n",
       "</table>\n",
       "</div>"
      ],
      "text/plain": [
       "   transaction_id region product_category  sales_amount  profit_margin  \\\n",
       "0               1   East            Books        166.29          15.29   \n",
       "1               2   West         Clothing        298.86           7.74   \n",
       "2               3  South      Electronics         68.30          21.23   \n",
       "3               4  North             Toys        475.24          12.99   \n",
       "4               5  North         Clothing        489.68           5.22   \n",
       "\n",
       "  transaction_month  profit_amount  \n",
       "0           2023-08      25.425741  \n",
       "1           2023-08      23.131764  \n",
       "2           2023-10      14.500090  \n",
       "3           2023-04      61.733676  \n",
       "4           2023-06      25.561296  "
      ]
     },
     "execution_count": 7,
     "metadata": {},
     "output_type": "execute_result"
    }
   ],
   "source": [
    "finance_df[\"profit_amount\"] = (finance_df[\"sales_amount\"] * finance_df[\"profit_margin\"]) / 100\n",
    "\n",
    "finance_df.head()"
   ]
  },
  {
   "cell_type": "code",
   "execution_count": 13,
   "id": "e8e2758c-c130-45a3-9819-1f18cc94edd7",
   "metadata": {},
   "outputs": [
    {
     "data": {
      "text/html": [
       "<div>\n",
       "<style scoped>\n",
       "    .dataframe tbody tr th:only-of-type {\n",
       "        vertical-align: middle;\n",
       "    }\n",
       "\n",
       "    .dataframe tbody tr th {\n",
       "        vertical-align: top;\n",
       "    }\n",
       "\n",
       "    .dataframe thead th {\n",
       "        text-align: right;\n",
       "    }\n",
       "</style>\n",
       "<table border=\"1\" class=\"dataframe\">\n",
       "  <thead>\n",
       "    <tr style=\"text-align: right;\">\n",
       "      <th></th>\n",
       "      <th>transaction_id</th>\n",
       "      <th>region</th>\n",
       "      <th>product_category</th>\n",
       "      <th>sales_amount</th>\n",
       "      <th>profit_margin</th>\n",
       "      <th>transaction_month</th>\n",
       "      <th>profit_amount</th>\n",
       "    </tr>\n",
       "  </thead>\n",
       "  <tbody>\n",
       "    <tr>\n",
       "      <th>290</th>\n",
       "      <td>291</td>\n",
       "      <td>North</td>\n",
       "      <td>Clothing</td>\n",
       "      <td>499.47</td>\n",
       "      <td>29.84</td>\n",
       "      <td>2023-05</td>\n",
       "      <td>149.041848</td>\n",
       "    </tr>\n",
       "    <tr>\n",
       "      <th>116</th>\n",
       "      <td>117</td>\n",
       "      <td>East</td>\n",
       "      <td>Clothing</td>\n",
       "      <td>490.71</td>\n",
       "      <td>29.62</td>\n",
       "      <td>2023-08</td>\n",
       "      <td>145.348302</td>\n",
       "    </tr>\n",
       "    <tr>\n",
       "      <th>731</th>\n",
       "      <td>732</td>\n",
       "      <td>North</td>\n",
       "      <td>Electronics</td>\n",
       "      <td>488.25</td>\n",
       "      <td>29.54</td>\n",
       "      <td>2023-06</td>\n",
       "      <td>144.229050</td>\n",
       "    </tr>\n",
       "    <tr>\n",
       "      <th>1357</th>\n",
       "      <td>1358</td>\n",
       "      <td>West</td>\n",
       "      <td>Home</td>\n",
       "      <td>494.37</td>\n",
       "      <td>28.99</td>\n",
       "      <td>2023-03</td>\n",
       "      <td>143.317863</td>\n",
       "    </tr>\n",
       "    <tr>\n",
       "      <th>669</th>\n",
       "      <td>670</td>\n",
       "      <td>East</td>\n",
       "      <td>Home</td>\n",
       "      <td>487.11</td>\n",
       "      <td>29.01</td>\n",
       "      <td>2023-01</td>\n",
       "      <td>141.310611</td>\n",
       "    </tr>\n",
       "  </tbody>\n",
       "</table>\n",
       "</div>"
      ],
      "text/plain": [
       "      transaction_id region product_category  sales_amount  profit_margin  \\\n",
       "290              291  North         Clothing        499.47          29.84   \n",
       "116              117   East         Clothing        490.71          29.62   \n",
       "731              732  North      Electronics        488.25          29.54   \n",
       "1357            1358   West             Home        494.37          28.99   \n",
       "669              670   East             Home        487.11          29.01   \n",
       "\n",
       "     transaction_month  profit_amount  \n",
       "290            2023-05     149.041848  \n",
       "116            2023-08     145.348302  \n",
       "731            2023-06     144.229050  \n",
       "1357           2023-03     143.317863  \n",
       "669            2023-01     141.310611  "
      ]
     },
     "execution_count": 13,
     "metadata": {},
     "output_type": "execute_result"
    }
   ],
   "source": [
    "top_5 = finance_df.sort_values(by=\"profit_amount\", ascending=False).head(5)\n",
    "\n",
    "top_5"
   ]
  },
  {
   "cell_type": "code",
   "execution_count": null,
   "id": "bec00635-34c4-4b53-8de5-afa6ed5f8726",
   "metadata": {},
   "outputs": [],
   "source": []
  }
 ],
 "metadata": {
  "kernelspec": {
   "display_name": "Python 3 (ipykernel)",
   "language": "python",
   "name": "python3"
  },
  "language_info": {
   "codemirror_mode": {
    "name": "ipython",
    "version": 3
   },
   "file_extension": ".py",
   "mimetype": "text/x-python",
   "name": "python",
   "nbconvert_exporter": "python",
   "pygments_lexer": "ipython3",
   "version": "3.11.9"
  }
 },
 "nbformat": 4,
 "nbformat_minor": 5
}
